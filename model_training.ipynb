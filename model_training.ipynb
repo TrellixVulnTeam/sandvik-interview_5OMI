{
 "cells": [
  {
   "cell_type": "code",
   "execution_count": 1,
   "metadata": {},
   "outputs": [],
   "source": [
    "import numpy as np\n",
    "from pathlib import Path\n",
    "import matplotlib.pyplot as plot\n",
    "\n",
    "from sklearn.ensemble import RandomForestClassifier, GradientBoostingClassifier\n",
    "from sklearn.model_selection import train_test_split\n",
    "from sklearn.metrics import classification_report"
   ]
  },
  {
   "cell_type": "code",
   "execution_count": 2,
   "metadata": {},
   "outputs": [],
   "source": [
    "features = np.loadtxt('features.txt')"
   ]
  },
  {
   "cell_type": "code",
   "execution_count": 3,
   "metadata": {},
   "outputs": [],
   "source": [
    "labels = Path('labels.txt').read_text().split('\\n')"
   ]
  },
  {
   "cell_type": "markdown",
   "metadata": {},
   "source": [
    "## The data needs some cleaning"
   ]
  },
  {
   "cell_type": "code",
   "execution_count": 4,
   "metadata": {},
   "outputs": [
    {
     "data": {
      "text/plain": [
       "array(['Female', 'Male', 'Masculino', 'Please Select', 'Weiblich',\n",
       "       '[female];', '[male];', 'adult', 'female', 'make', 'male', 'male;',\n",
       "       'unknown'], dtype='<U13')"
      ]
     },
     "execution_count": 4,
     "metadata": {},
     "output_type": "execute_result"
    }
   ],
   "source": [
    "np.unique(labels)"
   ]
  },
  {
   "cell_type": "markdown",
   "metadata": {},
   "source": [
    "### Set 1=male 2=female"
   ]
  },
  {
   "cell_type": "code",
   "execution_count": 5,
   "metadata": {},
   "outputs": [],
   "source": [
    "male_words = ['Male', 'Masculino', '[male];', 'male', 'male;']\n",
    "female_words = ['Female', 'Weiblich', 'female', '[female];']\n",
    "\n",
    "clean_labels = []\n",
    "clean_features=  []\n",
    "for feature, label in zip(features, labels):\n",
    "    if label in male_words:\n",
    "        clean_features.append(feature)\n",
    "        clean_labels.append(1)\n",
    "    elif label in female_words:\n",
    "        clean_features.append(feature)\n",
    "        clean_labels.append(2)\n",
    "        \n",
    "features = np.array(clean_features)\n",
    "labels = np.array(clean_labels)        "
   ]
  },
  {
   "cell_type": "markdown",
   "metadata": {},
   "source": [
    "## Train/Test Split"
   ]
  },
  {
   "cell_type": "code",
   "execution_count": 6,
   "metadata": {},
   "outputs": [],
   "source": [
    "train_x, test_x, train_y, test_y = train_test_split(features, labels)"
   ]
  },
  {
   "cell_type": "code",
   "execution_count": 7,
   "metadata": {},
   "outputs": [],
   "source": [
    "male_features = train_x[train_y==1]\n",
    "male_labels = train_y[train_y == 1]\n",
    "\n",
    "female_features = train_x[train_y==2]\n",
    "female_labels = train_y[train_y == 2]\n",
    "\n",
    "female_features = np.row_stack([female_features] * int(len(male_labels)/len(female_labels)))\n",
    "female_labels = np.concatenate([female_labels] * int(len(male_labels)/len(female_labels)))\n",
    "\n",
    "train_x = np.row_stack((male_features, female_features))\n",
    "train_y = np.concatenate((male_labels, female_labels))"
   ]
  },
  {
   "cell_type": "markdown",
   "metadata": {},
   "source": [
    "## Train a Model"
   ]
  },
  {
   "cell_type": "code",
   "execution_count": 9,
   "metadata": {},
   "outputs": [
    {
     "name": "stdout",
     "output_type": "stream",
     "text": [
      "      Iter       Train Loss      OOB Improve   Remaining Time \n",
      "         1           1.2472           0.1367           10.56m\n",
      "         2           1.1329           0.1139           10.42m\n",
      "         3           1.0373           0.0955           10.33m\n",
      "         4           0.9555           0.0812           10.29m\n",
      "         5           0.8862           0.0693           10.24m\n",
      "         6           0.8247           0.0604           10.19m\n",
      "         7           0.7716           0.0535           10.18m\n",
      "         8           0.7238           0.0478           10.14m\n",
      "         9           0.6803           0.0419           10.12m\n",
      "        10           0.6433           0.0370           10.09m\n",
      "        20           0.4259           0.0138            9.88m\n",
      "        30           0.3324           0.0063            9.69m\n",
      "        40           0.2811           0.0041            9.52m\n",
      "        50           0.2462           0.0025            9.34m\n",
      "        60           0.2221           0.0024            9.17m\n",
      "        70           0.2053           0.0009            9.02m\n",
      "        80           0.1932           0.0002            8.92m\n",
      "        90           0.1821           0.0003            8.77m\n",
      "       100           0.1727           0.0003            8.60m\n",
      "       200           0.1161           0.0003            6.65m\n",
      "       300           0.0851           0.0001            4.47m\n",
      "       400           0.0632           0.0001            2.24m\n",
      "       500           0.0484           0.0001            0.00s\n"
     ]
    },
    {
     "data": {
      "text/plain": [
       "GradientBoostingClassifier(ccp_alpha=0.0, criterion='friedman_mse', init=None,\n",
       "                           learning_rate=0.1, loss='deviance', max_depth=5,\n",
       "                           max_features=None, max_leaf_nodes=None,\n",
       "                           min_impurity_decrease=0.0, min_impurity_split=None,\n",
       "                           min_samples_leaf=1, min_samples_split=2,\n",
       "                           min_weight_fraction_leaf=0.0, n_estimators=500,\n",
       "                           n_iter_no_change=None, presort='deprecated',\n",
       "                           random_state=None, subsample=0.8, tol=0.0001,\n",
       "                           validation_fraction=0.1, verbose=1,\n",
       "                           warm_start=False)"
      ]
     },
     "execution_count": 9,
     "metadata": {},
     "output_type": "execute_result"
    }
   ],
   "source": [
    "# model = RandomForestClassifier()\n",
    "model = GradientBoostingClassifier(n_estimators=500, max_depth=5, subsample=0.8, verbose=1)\n",
    "model.fit(train_x, train_y)"
   ]
  },
  {
   "cell_type": "markdown",
   "metadata": {},
   "source": [
    "## Evaluate it"
   ]
  },
  {
   "cell_type": "code",
   "execution_count": 10,
   "metadata": {},
   "outputs": [
    {
     "name": "stdout",
     "output_type": "stream",
     "text": [
      "              precision    recall  f1-score   support\n",
      "\n",
      "        Male       0.99      0.99      0.99     15999\n",
      "      Female       0.92      0.95      0.93      2944\n",
      "\n",
      "    accuracy                           0.98     18943\n",
      "   macro avg       0.96      0.97      0.96     18943\n",
      "weighted avg       0.98      0.98      0.98     18943\n",
      "\n"
     ]
    }
   ],
   "source": [
    "print(classification_report(test_y, model.predict(test_x), target_names=['Male', 'Female']))"
   ]
  },
  {
   "cell_type": "code",
   "execution_count": null,
   "metadata": {},
   "outputs": [],
   "source": []
  }
 ],
 "metadata": {
  "kernelspec": {
   "display_name": "Python 3",
   "language": "python",
   "name": "python3"
  },
  "language_info": {
   "codemirror_mode": {
    "name": "ipython",
    "version": 3
   },
   "file_extension": ".py",
   "mimetype": "text/x-python",
   "name": "python",
   "nbconvert_exporter": "python",
   "pygments_lexer": "ipython3",
   "version": "3.7.4"
  }
 },
 "nbformat": 4,
 "nbformat_minor": 2
}
